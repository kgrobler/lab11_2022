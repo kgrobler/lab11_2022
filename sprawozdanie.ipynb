{
 "cells": [
  {
   "cell_type": "markdown",
   "metadata": {},
   "source": [
    "# <center>Laboratorium Całki<br>Metody Numeryczne</center>"
   ]
  },
  {
   "cell_type": "markdown",
   "metadata": {},
   "source": [
    "# Instrukcja:  \n",
    "Na zajęciach należy wykonać poniższe zadania, a następnie sporządzić sprawozdanie zawierające odpowiedzi z komentarzami."
   ]
  },
  {
   "cell_type": "markdown",
   "metadata": {},
   "source": [
    "**Cel zajęć:**  \n",
    "Celem zajęć jest zapoznanie się z metodami całkowania numerycznego funkcji:  \n",
    "$$\n",
    "\\int\\limits_{a}^{b}f(x)dx \n",
    "$$  \n",
    "\n",
    "Dana jest funkcja $f(x)$, należy wyznaczyć wartość całki tej funkcji na przedziale $a$,$b$.\n"
   ]
  },
  {
   "cell_type": "markdown",
   "metadata": {},
   "source": [
    "***Zadanie 1.***    \n",
    "Wyznacz numerycznie wartość całki:   \n",
    "$$\n",
    "\\int\\limits_{a}^{b}\\sin^2(\\cfrac{1}{x-1.01})dx \n",
    "$$\n",
    "\n",
    "Wykonaj następujące czynności:\n",
    "\n",
    "1. Czy możliwe jest całkowanie podanej funkcji na dowolnym przedziale? Swoją odpowiedź uzasadnij.\n",
    "2. Oblicz całkę numerycznie na przedziale $a =0$, $b=1$ przy pomocy następujących metod:  \n",
    "    1. Metoda Prostokątów\n",
    "    2. Metoda Trapezów - [trapezoid](https://docs.scipy.org/doc/scipy/reference/generated/scipy.integrate.trapezoid.html#scipy.integrate.trapezoid)\n",
    "    3. Metoda Kwadratur - [quad](https://docs.scipy.org/doc/scipy/reference/generated/scipy.integrate.quad.html#scipy.integrate.quad)  \n",
    "  \n",
    "Sprawdź jak wyniki róźnią się od siebie, czy ma na nie wpływ długość wektora $\\mathbf{y}$ oraz wartość parametru $dx$\n",
    "\n",
    "3. Porównaj wyniki i czas obliczeń z punktu 1 z funkcjami:\n",
    "    1. [quad](https://docs.scipy.org/doc/scipy/reference/generated/scipy.integrate.quad.html#scipy.integrate.quad)\n",
    "    2. [quadrature](https://docs.scipy.org/doc/scipy/reference/generated/scipy.integrate.quadrature.html#scipy.integrate.quadrature)"
   ]
  },
  {
   "cell_type": "markdown",
   "metadata": {},
   "source": [
    "***Zadanie 2.***  \n",
    "Dla funkcji \n",
    "\n",
    "$$f(x) = e^{-x^2}$$\n",
    "\n",
    "wyznacz numerycznie wartośc całki na przedziale $a = 0$, $b=1$  w  taki sam sposób jak w zadaniu 1."
   ]
  },
  {
   "cell_type": "markdown",
   "metadata": {},
   "source": [
    "***Zadanie 3.***  \n",
    "Dla funkcji \n",
    "\n",
    "$$f(x) = x^{x}$$\n",
    "\n",
    "wyznacz numerycznie wartośc całki na przedziale $a = 1$, $b=2$  w  taki sam sposób jak w zadaniu 1."
   ]
  }
 ],
 "metadata": {
  "kernelspec": {
   "display_name": "Python 3",
   "language": "python",
   "name": "python3"
  },
  "language_info": {
   "codemirror_mode": {
    "name": "ipython",
    "version": 3
   },
   "file_extension": ".py",
   "mimetype": "text/x-python",
   "name": "python",
   "nbconvert_exporter": "python",
   "pygments_lexer": "ipython3",
   "version": "3.8.5"
  }
 },
 "nbformat": 4,
 "nbformat_minor": 4
}
